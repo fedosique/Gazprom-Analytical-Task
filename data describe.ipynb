{
  "nbformat": 4,
  "nbformat_minor": 0,
  "metadata": {
    "colab": {
      "name": "Untitled3.ipynb",
      "provenance": [],
      "collapsed_sections": []
    },
    "kernelspec": {
      "name": "python3",
      "display_name": "Python 3"
    },
    "language_info": {
      "name": "python"
    }
  },
  "cells": [
    {
      "cell_type": "code",
      "execution_count": 1,
      "metadata": {
        "id": "nUEcGAKncE18"
      },
      "outputs": [],
      "source": [
        "import numpy as np\n",
        "import pandas as pd"
      ]
    },
    {
      "cell_type": "code",
      "source": [
        "data = pd.read_csv('excel_utf8.csv', delimiter=';', on_bad_lines='skip')"
      ],
      "metadata": {
        "id": "O4irWQvrcqbR"
      },
      "execution_count": 2,
      "outputs": []
    },
    {
      "cell_type": "code",
      "source": [
        "data.isna().sum()"
      ],
      "metadata": {
        "id": "3WQPEuVYdbFr"
      },
      "execution_count": null,
      "outputs": []
    },
    {
      "cell_type": "code",
      "source": [
        "data = data.dropna()\n",
        "data = data.drop([\"Номер\"], axis=1)"
      ],
      "metadata": {
        "id": "jxANnCUVdqfV"
      },
      "execution_count": 4,
      "outputs": []
    },
    {
      "cell_type": "code",
      "source": [
        "data = data[data[\"Просрочка, дней\"].str.contains(\"-\")==False]"
      ],
      "metadata": {
        "id": "9L8JqGmzfTQ5"
      },
      "execution_count": 5,
      "outputs": []
    },
    {
      "cell_type": "code",
      "source": [
        "data = data[data[\"Просрочка, дней\"].str.contains(\"#ЗНАЧ!\")==False]"
      ],
      "metadata": {
        "id": "AFKke2nrjYHY"
      },
      "execution_count": 6,
      "outputs": []
    },
    {
      "cell_type": "code",
      "source": [
        "data[\"Просрочка, дней\"] = data[\"Просрочка, дней\"].astype(\"int32\")"
      ],
      "metadata": {
        "id": "7zmyHjKqkPDx"
      },
      "execution_count": 7,
      "outputs": []
    },
    {
      "cell_type": "code",
      "source": [
        "data[\"Просрочка, дней\"].describe()"
      ],
      "metadata": {
        "colab": {
          "base_uri": "https://localhost:8080/"
        },
        "id": "JCiz2oxfiXas",
        "outputId": "2530c524-7566-4ba9-f5a6-014b8315b21d"
      },
      "execution_count": 8,
      "outputs": [
        {
          "output_type": "execute_result",
          "data": {
            "text/plain": [
              "count    2451.000000\n",
              "mean      147.954712\n",
              "std       117.808198\n",
              "min         1.000000\n",
              "25%        53.000000\n",
              "50%       130.000000\n",
              "75%       225.000000\n",
              "max      1229.000000\n",
              "Name: Просрочка, дней, dtype: float64"
            ]
          },
          "metadata": {},
          "execution_count": 8
        }
      ]
    }
  ]
}